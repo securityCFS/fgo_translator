{
 "cells": [
  {
   "cell_type": "markdown",
   "metadata": {},
   "source": [
    "# FGO Dialogue Translation Demo\n",
    "\n",
    "This notebook demonstrates how to use the FGO dialogue translation tools to translate game dialogues using both GPT and Google Translate."
   ]
  },
  {
   "cell_type": "markdown",
   "metadata": {},
   "source": [
    "## 1. Import Required Packages"
   ]
  },
  {
   "cell_type": "code",
   "execution_count": 1,
   "metadata": {},
   "outputs": [],
   "source": [
    "import os\n",
    "from pathlib import Path\n",
    "from dialogue_loader import DialogueLoader\n",
    "import json"
   ]
  },
  {
   "cell_type": "markdown",
   "metadata": {},
   "source": [
    "## 2. Configuration\n",
    "\n",
    "Set up your API keys and configuration parameters. Replace the placeholder values with your actual API keys."
   ]
  },
  {
   "cell_type": "code",
   "execution_count": null,
   "metadata": {},
   "outputs": [],
   "source": [
    "# GPT API Configuration\n",
    "API_BASE = \"https://api.openai.com/v1\"  # Replace with your API base URL\n",
    "API_KEY = \"your-api-key-here\"  # Replace with your API key\n",
    "API_TYPE = \"openai\"  # or \"custom\" for other API providers\n",
    "AUTH_TYPE = \"api_key\"  # or \"bearer\" depending on your API provider\n",
    "BASE_MODEL = \"deepseek-v3\"  # or your preferred model\n",
    "\n",
    "# Translation Configuration\n",
    "TARGET_LANGUAGE = \"zh-cn\"  # Target language for translation\n",
    "EXPORT_DIR = \"translations\"  # Directory to save translations\n",
    "\n",
    "# Create export directory if it doesn't exist\n",
    "Path(EXPORT_DIR).mkdir(exist_ok=True)"
   ]
  },
  {
   "cell_type": "markdown",
   "metadata": {},
   "source": [
    "## 3. Initialize Dialogue Loader"
   ]
  },
  {
   "cell_type": "code",
   "execution_count": null,
   "metadata": {},
   "outputs": [],
   "source": [
    "# Initialize the dialogue loader with a cache directory\n",
    "loader = DialogueLoader(cache_dir=Path(\"cache\"))"
   ]
  },
  {
   "cell_type": "markdown",
   "metadata": {},
   "source": [
    "## 4. Search for a War\n",
    "\n",
    "Let's search for a specific war by name. For this example, we'll use \"Babylonia\"."
   ]
  },
  {
   "cell_type": "code",
   "execution_count": null,
   "metadata": {},
   "outputs": [],
   "source": [
    "# Search for the Babylonia war\n",
    "war_name = \"Babylonia\"\n",
    "wars = loader.search_war(war_name)\n",
    "\n",
    "# Display the found wars\n",
    "for war in wars:\n",
    "    print(f\"War ID: {war['id']}\")\n",
    "    print(f\"Name: {war['name']}\")\n",
    "    print(f\"Long Name: {war.get('longName', 'N/A')}\")\n",
    "    print(\"-\" * 50)"
   ]
  },
  {
   "cell_type": "markdown",
   "metadata": {},
   "source": [
    "## 5. Search for a Quest\n",
    "\n",
    "Now let's search for a specific quest within the war. We'll use the first war ID from the previous search."
   ]
  },
  {
   "cell_type": "code",
   "execution_count": null,
   "metadata": {},
   "outputs": [],
   "source": [
    "# Get the first war ID from the previous search\n",
    "war_id = wars[0]['id']\n",
    "\n",
    "# Search for quests in the war\n",
    "quest_name = \"Prologue\"  # Example quest name\n",
    "quests = loader.search_quest(quest_name, war_id)\n",
    "\n",
    "# Display the found quests\n",
    "for quest in quests:\n",
    "    print(f\"Quest ID: {quest['id']}\")\n",
    "    print(f\"Name: {quest['name']}\")\n",
    "    print(f\"Long Name: {quest.get('longName', 'N/A')}\")\n",
    "    print(\"-\" * 50)"
   ]
  },
  {
   "cell_type": "markdown",
   "metadata": {},
   "source": [
    "## 6. Get Quest Scripts and Dialogues\n",
    "\n",
    "Let's get the scripts and dialogues for a specific quest."
   ]
  },
  {
   "cell_type": "code",
   "execution_count": null,
   "metadata": {},
   "outputs": [],
   "source": [
    "# Get the first quest ID from the previous search\n",
    "quest_id = quests[0]['id']\n",
    "\n",
    "# Get quest scripts\n",
    "scripts = loader.get_quest_scripts(quest_id)\n",
    "\n",
    "# Get dialogues from the first script\n",
    "script_id = scripts[0]['id']\n",
    "dialogues = loader.extract_dialogues(script_id)\n",
    "\n",
    "# Display the first few dialogues\n",
    "for dialogue in dialogues[:5]:\n",
    "    print(f\"Speaker: {dialogue.get('speaker', 'N/A')}\")\n",
    "    print(f\"Text: {dialogue.get('text', 'N/A')}\")\n",
    "    print(\"-\" * 50)"
   ]
  },
  {
   "cell_type": "markdown",
   "metadata": {},
   "source": [
    "## 7. Translate Dialogues using GPT\n",
    "\n",
    "Now let's translate the dialogues using GPT."
   ]
  },
  {
   "cell_type": "code",
   "execution_count": null,
   "metadata": {},
   "outputs": [],
   "source": [
    "# Translate dialogues using GPT\n",
    "translated_dialogues = loader.gpt_dialogue_translate(\n",
    "    dialogues=dialogues,\n",
    "    api_base=API_BASE,\n",
    "    api_key=API_KEY,\n",
    "    target_language=TARGET_LANGUAGE,\n",
    "    base_model=BASE_MODEL,\n",
    "    api_type=API_TYPE,\n",
    "    auth_type=AUTH_TYPE\n",
    ")\n",
    "\n",
    "# Display the first few translated dialogues\n",
    "for dialogue in translated_dialogues[:5]:\n",
    "    print(f\"Speaker: {dialogue.get('speaker', 'N/A')}\")\n",
    "    print(f\"Original Text: {dialogue.get('text', 'N/A')}\")\n",
    "    print(f\"Translated Text: {dialogue.get('translated_text', 'N/A')}\")\n",
    "    print(\"-\" * 50)"
   ]
  },
  {
   "cell_type": "markdown",
   "metadata": {},
   "source": [
    "## 8. Translate Dialogues using Google Translate\n",
    "\n",
    "Let's also try translating the dialogues using Google Translate."
   ]
  },
  {
   "cell_type": "code",
   "execution_count": null,
   "metadata": {},
   "outputs": [],
   "source": [
    "import asyncio\n",
    "\n",
    "# Translate dialogues using Google Translate\n",
    "translated_dialogues_free = asyncio.run(loader.free_translate(\n",
    "    dialogues=dialogues,\n",
    "    target_language=TARGET_LANGUAGE\n",
    "))\n",
    "\n",
    "# Display the first few translated dialogues\n",
    "for dialogue in translated_dialogues_free[:5]:\n",
    "    print(f\"Speaker: {dialogue.get('speaker', 'N/A')}\")\n",
    "    print(f\"Original Text: {dialogue.get('text', 'N/A')}\")\n",
    "    print(f\"Translated Text: {dialogue.get('translated_text', 'N/A')}\")\n",
    "    print(\"-\" * 50)"
   ]
  },
  {
   "cell_type": "markdown",
   "metadata": {},
   "source": [
    "## 9. Save Translated Dialogues\n",
    "\n",
    "Finally, let's save the translated dialogues to a file."
   ]
  },
  {
   "cell_type": "code",
   "execution_count": null,
   "metadata": {},
   "outputs": [],
   "source": [
    "# Save GPT translated dialogues\n",
    "loader.save_dialogues(\n",
    "    dialogues=translated_dialogues,\n",
    "    war_name=war_name,\n",
    "    quest_name=quest_name,\n",
    "    script_id=script_id,\n",
    "    save_dir=EXPORT_DIR,\n",
    "    translate=True,\n",
    "    translation_method=\"gpt\"\n",
    ")\n",
    "\n",
    "# Save Google translated dialogues\n",
    "loader.save_dialogues(\n",
    "    dialogues=translated_dialogues_free,\n",
    "    war_name=war_name,\n",
    "    quest_name=quest_name,\n",
    "    script_id=script_id,\n",
    "    save_dir=EXPORT_DIR,\n",
    "    translate=True,\n",
    "    translation_method=\"free\"\n",
    ")"
   ]
  }
 ],
 "metadata": {
  "kernelspec": {
   "display_name": "nn",
   "language": "python",
   "name": "python3"
  },
  "language_info": {
   "codemirror_mode": {
    "name": "ipython",
    "version": 3
   },
   "file_extension": ".py",
   "mimetype": "text/x-python",
   "name": "python",
   "nbconvert_exporter": "python",
   "pygments_lexer": "ipython3",
   "version": "3.9.16"
  }
 },
 "nbformat": 4,
 "nbformat_minor": 4
}
