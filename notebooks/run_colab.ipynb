{
 "cells": [
  {
   "cell_type": "markdown",
   "metadata": {},
   "source": [
    "# Run FGO Translator in Google Colab\n",
    "\n",
    "To run the FGO Translator in Colab environment, you can first register a Google account. Then, click the following button to jump to the Colab page.\n",
    "\n",
    "你可以通过如下的跳转按钮以在 Google Colab 中运行 FGO Translator。\n",
    "\n",
    "[![Open In Colab](https://colab.research.google.com/assets/colab-badge.svg)](https://colab.research.google.com/github/securityCFS/fgo_translator/blob/master/notebooks/run_colab.ipynb)\n"
   ]
  },
  {
   "cell_type": "markdown",
   "metadata": {},
   "source": [
    "Run the following cells to clone the repository and install the dependencies.\n"
   ]
  },
  {
   "cell_type": "code",
   "execution_count": null,
   "metadata": {},
   "outputs": [],
   "source": [
    "!git clone https://github.com/securityCFS/fgo_translator.git\n",
    "!pip install -r fgo_translator/requirements.txt"
   ]
  },
  {
   "cell_type": "markdown",
   "metadata": {},
   "source": [
    "Install `pyngrok` to expose the colab server to the internet.\n"
   ]
  },
  {
   "cell_type": "code",
   "execution_count": null,
   "metadata": {},
   "outputs": [],
   "source": [
    "!pip install pyngrok"
   ]
  },
  {
   "cell_type": "markdown",
   "metadata": {},
   "source": [
    "Before running the following cells, you need to register and fetch an API key from `ngrok`. You can get the key from [ngrok dashboard](https://dashboard.ngrok.com/get-started/your-authtoken).\n",
    "\n",
    "在运行以下单元格之前，您需要注册并从 `ngrok` 获取 API 密钥。您可以从 [ngrok 仪表板](https://dashboard.ngrok.com/get-started/your-authtoken) 获取密钥。\n"
   ]
  },
  {
   "cell_type": "code",
   "execution_count": null,
   "metadata": {},
   "outputs": [],
   "source": [
    "from pyngrok import ngrok, conf\n",
    "import getpass\n",
    "\n",
    "print(\"Please input your ngrok Authtoken (if you don't have one, just press Enter):\")\n",
    "NGROK_AUTH_TOKEN = getpass.getpass()\n",
    "\n",
    "if NGROK_AUTH_TOKEN:\n",
    "    conf.get_default().auth_token = NGROK_AUTH_TOKEN\n",
    "    print(\"Ngrok Authtoken has been configured.\")\n",
    "else:\n",
    "    print(\"No Ngrok Authtoken provided, running anonymously.\")\n",
    "\n",
    "ngrok.kill()\n",
    "\n",
    "# modify the port to your desired port, default is 5000\n",
    "try:\n",
    "    public_url = ngrok.connect(5000)\n",
    "    print(f\"Your application can be accessed through this public URL: {public_url}\")\n",
    "except Exception as e:\n",
    "    print(f\"Error starting ngrok: {e}\")\n",
    "    print(\"Please check your ngrok Authtoken is correct, or your network connection is normal.\")\n",
    "    print(\"If there is a previous ngrok process running but not closed correctly, it may also cause problems.\")"
   ]
  },
  {
   "cell_type": "markdown",
   "metadata": {},
   "source": [
    "After completing the above steps, start the server by running the following cell. Note that colab running time is limited, so if your webpage is not responding, you can just restart the colab kernel.\n",
    "\n",
    "在完成上述步骤后，运行以下单元格启动服务器。请注意，Colab 的运行时间有限，因此如果您的网页未响应，可以重新启动 Colab 内核。\n"
   ]
  },
  {
   "cell_type": "code",
   "execution_count": null,
   "metadata": {},
   "outputs": [],
   "source": [
    "!python fgo_translator/app.py"
   ]
  }
 ],
 "metadata": {
  "kernelspec": {
   "display_name": "nn",
   "language": "python",
   "name": "python3"
  },
  "language_info": {
   "name": "python",
   "version": "3.9.16"
  }
 },
 "nbformat": 4,
 "nbformat_minor": 2
}
