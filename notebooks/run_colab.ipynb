{
  "cells": [
    {
      "cell_type": "markdown",
      "metadata": {
        "id": "1UlLZU61XoG_"
      },
      "source": [
        "# Run FGO Translator in Google Colab\n",
        "\n",
        "To run the FGO Translator in Colab environment, you can first register a Google account. Then, click the following button to jump to the Colab page.\n",
        "\n",
        "你可以通过如下的跳转按钮以在 Google Colab 中运行 FGO Translator。\n",
        "\n",
        "[![Open In Colab](https://colab.research.google.com/assets/colab-badge.svg)](https://colab.research.google.com/github/securityCFS/fgo_translator/blob/master/notebooks/run_colab.ipynb)\n"
      ]
    },
    {
      "cell_type": "code",
      "source": [
        "import os\n",
        "import sys\n",
        "if os.path.exists(\"/content/fgo_translator\"):\n",
        "    # remove the directory\n",
        "    !rm -rf /content/fgo_translator"
      ],
      "metadata": {
        "id": "mrdJBiGSYDNS"
      },
      "execution_count": 3,
      "outputs": []
    },
    {
      "cell_type": "markdown",
      "metadata": {
        "id": "56buhXwJXoHA"
      },
      "source": [
        "Run the following cells to clone the repository and install the dependencies.\n"
      ]
    },
    {
      "cell_type": "code",
      "execution_count": 4,
      "metadata": {
        "id": "PUh4RiBEXoHB",
        "outputId": "0b4c4981-0372-4d71-a38e-46aaf93da900",
        "colab": {
          "base_uri": "https://localhost:8080/"
        }
      },
      "outputs": [
        {
          "output_type": "stream",
          "name": "stdout",
          "text": [
            "Cloning into 'fgo_translator'...\n",
            "remote: Enumerating objects: 63, done.\u001b[K\n",
            "remote: Counting objects: 100% (63/63), done.\u001b[K\n",
            "remote: Compressing objects: 100% (41/41), done.\u001b[K\n",
            "remote: Total 63 (delta 32), reused 50 (delta 19), pack-reused 0 (from 0)\u001b[K\n",
            "Receiving objects: 100% (63/63), 50.52 KiB | 4.21 MiB/s, done.\n",
            "Resolving deltas: 100% (32/32), done.\n",
            "Requirement already satisfied: flask==3.0.2 in /usr/local/lib/python3.11/dist-packages (from -r fgo_translator/requirements.txt (line 1)) (3.0.2)\n",
            "Requirement already satisfied: python-dotenv==1.0.1 in /usr/local/lib/python3.11/dist-packages (from -r fgo_translator/requirements.txt (line 2)) (1.0.1)\n",
            "Requirement already satisfied: requests==2.31.0 in /usr/local/lib/python3.11/dist-packages (from -r fgo_translator/requirements.txt (line 3)) (2.31.0)\n",
            "Requirement already satisfied: aiohttp==3.9.3 in /usr/local/lib/python3.11/dist-packages (from -r fgo_translator/requirements.txt (line 4)) (3.9.3)\n",
            "Requirement already satisfied: deep-translator==1.11.4 in /usr/local/lib/python3.11/dist-packages (from -r fgo_translator/requirements.txt (line 5)) (1.11.4)\n",
            "Requirement already satisfied: openai>=1.12.0 in /usr/local/lib/python3.11/dist-packages (from -r fgo_translator/requirements.txt (line 6)) (1.82.1)\n",
            "Requirement already satisfied: googletrans>=3.1.0a0 in /usr/local/lib/python3.11/dist-packages (from -r fgo_translator/requirements.txt (line 7)) (4.0.2)\n",
            "Requirement already satisfied: tqdm>=4.66.1 in /usr/local/lib/python3.11/dist-packages (from -r fgo_translator/requirements.txt (line 8)) (4.67.1)\n",
            "Requirement already satisfied: langdetect>=1.0.9 in /usr/local/lib/python3.11/dist-packages (from -r fgo_translator/requirements.txt (line 9)) (1.0.9)\n",
            "Requirement already satisfied: pathlib>=1.0.1 in /usr/local/lib/python3.11/dist-packages (from -r fgo_translator/requirements.txt (line 10)) (1.0.1)\n",
            "Requirement already satisfied: typing>=3.7.4.3 in /usr/local/lib/python3.11/dist-packages (from -r fgo_translator/requirements.txt (line 11)) (3.7.4.3)\n",
            "Requirement already satisfied: asyncio>=3.4.3 in /usr/local/lib/python3.11/dist-packages (from -r fgo_translator/requirements.txt (line 12)) (3.4.3)\n",
            "Requirement already satisfied: socketio in /usr/local/lib/python3.11/dist-packages (from -r fgo_translator/requirements.txt (line 13)) (0.2.1)\n",
            "Requirement already satisfied: flask-socketio>=5.3.4 in /usr/local/lib/python3.11/dist-packages (from -r fgo_translator/requirements.txt (line 14)) (5.5.1)\n",
            "Requirement already satisfied: flask-cors>=4.0.0 in /usr/local/lib/python3.11/dist-packages (from -r fgo_translator/requirements.txt (line 15)) (6.0.0)\n",
            "Requirement already satisfied: Werkzeug>=3.0.0 in /usr/local/lib/python3.11/dist-packages (from flask==3.0.2->-r fgo_translator/requirements.txt (line 1)) (3.1.3)\n",
            "Requirement already satisfied: Jinja2>=3.1.2 in /usr/local/lib/python3.11/dist-packages (from flask==3.0.2->-r fgo_translator/requirements.txt (line 1)) (3.1.6)\n",
            "Requirement already satisfied: itsdangerous>=2.1.2 in /usr/local/lib/python3.11/dist-packages (from flask==3.0.2->-r fgo_translator/requirements.txt (line 1)) (2.2.0)\n",
            "Requirement already satisfied: click>=8.1.3 in /usr/local/lib/python3.11/dist-packages (from flask==3.0.2->-r fgo_translator/requirements.txt (line 1)) (8.2.1)\n",
            "Requirement already satisfied: blinker>=1.6.2 in /usr/local/lib/python3.11/dist-packages (from flask==3.0.2->-r fgo_translator/requirements.txt (line 1)) (1.9.0)\n",
            "Requirement already satisfied: charset-normalizer<4,>=2 in /usr/local/lib/python3.11/dist-packages (from requests==2.31.0->-r fgo_translator/requirements.txt (line 3)) (3.4.2)\n",
            "Requirement already satisfied: idna<4,>=2.5 in /usr/local/lib/python3.11/dist-packages (from requests==2.31.0->-r fgo_translator/requirements.txt (line 3)) (3.10)\n",
            "Requirement already satisfied: urllib3<3,>=1.21.1 in /usr/local/lib/python3.11/dist-packages (from requests==2.31.0->-r fgo_translator/requirements.txt (line 3)) (2.4.0)\n",
            "Requirement already satisfied: certifi>=2017.4.17 in /usr/local/lib/python3.11/dist-packages (from requests==2.31.0->-r fgo_translator/requirements.txt (line 3)) (2025.4.26)\n",
            "Requirement already satisfied: aiosignal>=1.1.2 in /usr/local/lib/python3.11/dist-packages (from aiohttp==3.9.3->-r fgo_translator/requirements.txt (line 4)) (1.3.2)\n",
            "Requirement already satisfied: attrs>=17.3.0 in /usr/local/lib/python3.11/dist-packages (from aiohttp==3.9.3->-r fgo_translator/requirements.txt (line 4)) (25.3.0)\n",
            "Requirement already satisfied: frozenlist>=1.1.1 in /usr/local/lib/python3.11/dist-packages (from aiohttp==3.9.3->-r fgo_translator/requirements.txt (line 4)) (1.6.0)\n",
            "Requirement already satisfied: multidict<7.0,>=4.5 in /usr/local/lib/python3.11/dist-packages (from aiohttp==3.9.3->-r fgo_translator/requirements.txt (line 4)) (6.4.4)\n",
            "Requirement already satisfied: yarl<2.0,>=1.0 in /usr/local/lib/python3.11/dist-packages (from aiohttp==3.9.3->-r fgo_translator/requirements.txt (line 4)) (1.20.0)\n",
            "Requirement already satisfied: beautifulsoup4<5.0.0,>=4.9.1 in /usr/local/lib/python3.11/dist-packages (from deep-translator==1.11.4->-r fgo_translator/requirements.txt (line 5)) (4.13.4)\n",
            "Requirement already satisfied: anyio<5,>=3.5.0 in /usr/local/lib/python3.11/dist-packages (from openai>=1.12.0->-r fgo_translator/requirements.txt (line 6)) (4.9.0)\n",
            "Requirement already satisfied: distro<2,>=1.7.0 in /usr/local/lib/python3.11/dist-packages (from openai>=1.12.0->-r fgo_translator/requirements.txt (line 6)) (1.9.0)\n",
            "Requirement already satisfied: httpx<1,>=0.23.0 in /usr/local/lib/python3.11/dist-packages (from openai>=1.12.0->-r fgo_translator/requirements.txt (line 6)) (0.28.1)\n",
            "Requirement already satisfied: jiter<1,>=0.4.0 in /usr/local/lib/python3.11/dist-packages (from openai>=1.12.0->-r fgo_translator/requirements.txt (line 6)) (0.10.0)\n",
            "Requirement already satisfied: pydantic<3,>=1.9.0 in /usr/local/lib/python3.11/dist-packages (from openai>=1.12.0->-r fgo_translator/requirements.txt (line 6)) (2.11.5)\n",
            "Requirement already satisfied: sniffio in /usr/local/lib/python3.11/dist-packages (from openai>=1.12.0->-r fgo_translator/requirements.txt (line 6)) (1.3.1)\n",
            "Requirement already satisfied: typing-extensions<5,>=4.11 in /usr/local/lib/python3.11/dist-packages (from openai>=1.12.0->-r fgo_translator/requirements.txt (line 6)) (4.13.2)\n",
            "Requirement already satisfied: six in /usr/local/lib/python3.11/dist-packages (from langdetect>=1.0.9->-r fgo_translator/requirements.txt (line 9)) (1.17.0)\n",
            "Requirement already satisfied: setuptools==3.3 in /usr/local/lib/python3.11/dist-packages (from socketio->-r fgo_translator/requirements.txt (line 13)) (3.3)\n",
            "Requirement already satisfied: netifaces==0.10.6 in /usr/local/lib/python3.11/dist-packages (from socketio->-r fgo_translator/requirements.txt (line 13)) (0.10.6)\n",
            "Requirement already satisfied: python-socketio>=5.12.0 in /usr/local/lib/python3.11/dist-packages (from flask-socketio>=5.3.4->-r fgo_translator/requirements.txt (line 14)) (5.13.0)\n",
            "Requirement already satisfied: soupsieve>1.2 in /usr/local/lib/python3.11/dist-packages (from beautifulsoup4<5.0.0,>=4.9.1->deep-translator==1.11.4->-r fgo_translator/requirements.txt (line 5)) (2.7)\n",
            "Requirement already satisfied: httpcore==1.* in /usr/local/lib/python3.11/dist-packages (from httpx<1,>=0.23.0->openai>=1.12.0->-r fgo_translator/requirements.txt (line 6)) (1.0.9)\n",
            "Requirement already satisfied: h11>=0.16 in /usr/local/lib/python3.11/dist-packages (from httpcore==1.*->httpx<1,>=0.23.0->openai>=1.12.0->-r fgo_translator/requirements.txt (line 6)) (0.16.0)\n",
            "Requirement already satisfied: h2<5,>=3 in /usr/local/lib/python3.11/dist-packages (from httpx[http2]>=0.27.2->googletrans>=3.1.0a0->-r fgo_translator/requirements.txt (line 7)) (4.2.0)\n",
            "Requirement already satisfied: MarkupSafe>=2.0 in /usr/local/lib/python3.11/dist-packages (from Jinja2>=3.1.2->flask==3.0.2->-r fgo_translator/requirements.txt (line 1)) (3.0.2)\n",
            "Requirement already satisfied: annotated-types>=0.6.0 in /usr/local/lib/python3.11/dist-packages (from pydantic<3,>=1.9.0->openai>=1.12.0->-r fgo_translator/requirements.txt (line 6)) (0.7.0)\n",
            "Requirement already satisfied: pydantic-core==2.33.2 in /usr/local/lib/python3.11/dist-packages (from pydantic<3,>=1.9.0->openai>=1.12.0->-r fgo_translator/requirements.txt (line 6)) (2.33.2)\n",
            "Requirement already satisfied: typing-inspection>=0.4.0 in /usr/local/lib/python3.11/dist-packages (from pydantic<3,>=1.9.0->openai>=1.12.0->-r fgo_translator/requirements.txt (line 6)) (0.4.1)\n",
            "Requirement already satisfied: bidict>=0.21.0 in /usr/local/lib/python3.11/dist-packages (from python-socketio>=5.12.0->flask-socketio>=5.3.4->-r fgo_translator/requirements.txt (line 14)) (0.23.1)\n",
            "Requirement already satisfied: python-engineio>=4.11.0 in /usr/local/lib/python3.11/dist-packages (from python-socketio>=5.12.0->flask-socketio>=5.3.4->-r fgo_translator/requirements.txt (line 14)) (4.12.2)\n",
            "Requirement already satisfied: propcache>=0.2.1 in /usr/local/lib/python3.11/dist-packages (from yarl<2.0,>=1.0->aiohttp==3.9.3->-r fgo_translator/requirements.txt (line 4)) (0.3.1)\n",
            "Requirement already satisfied: hyperframe<7,>=6.1 in /usr/local/lib/python3.11/dist-packages (from h2<5,>=3->httpx[http2]>=0.27.2->googletrans>=3.1.0a0->-r fgo_translator/requirements.txt (line 7)) (6.1.0)\n",
            "Requirement already satisfied: hpack<5,>=4.1 in /usr/local/lib/python3.11/dist-packages (from h2<5,>=3->httpx[http2]>=0.27.2->googletrans>=3.1.0a0->-r fgo_translator/requirements.txt (line 7)) (4.1.0)\n",
            "Requirement already satisfied: simple-websocket>=0.10.0 in /usr/local/lib/python3.11/dist-packages (from python-engineio>=4.11.0->python-socketio>=5.12.0->flask-socketio>=5.3.4->-r fgo_translator/requirements.txt (line 14)) (1.1.0)\n",
            "Requirement already satisfied: wsproto in /usr/local/lib/python3.11/dist-packages (from simple-websocket>=0.10.0->python-engineio>=4.11.0->python-socketio>=5.12.0->flask-socketio>=5.3.4->-r fgo_translator/requirements.txt (line 14)) (1.2.0)\n"
          ]
        }
      ],
      "source": [
        "!git clone https://github.com/securityCFS/fgo_translator.git\n",
        "!pip install -r fgo_translator/requirements.txt"
      ]
    },
    {
      "cell_type": "markdown",
      "metadata": {
        "id": "WJ8mFxbZXoHB"
      },
      "source": [
        "Install `pyngrok` to expose the colab server to the internet.\n"
      ]
    },
    {
      "cell_type": "code",
      "execution_count": 5,
      "metadata": {
        "id": "1-txKhhrXoHB",
        "outputId": "2a807f73-2a00-482f-e492-aa14dd5b47da",
        "colab": {
          "base_uri": "https://localhost:8080/"
        }
      },
      "outputs": [
        {
          "output_type": "stream",
          "name": "stdout",
          "text": [
            "Requirement already satisfied: pyngrok in /usr/local/lib/python3.11/dist-packages (7.2.9)\n",
            "Requirement already satisfied: PyYAML>=5.1 in /usr/local/lib/python3.11/dist-packages (from pyngrok) (6.0.2)\n"
          ]
        }
      ],
      "source": [
        "!pip install pyngrok"
      ]
    },
    {
      "cell_type": "markdown",
      "metadata": {
        "id": "T4QdgXSbXoHC"
      },
      "source": [
        "Before running the following cells, you need to register and fetch an API key from `ngrok`. You can get the key from [ngrok dashboard](https://dashboard.ngrok.com/get-started/your-authtoken).\n",
        "\n",
        "在运行以下单元格之前，您需要注册并从 `ngrok` 获取 API 密钥。您可以从 [ngrok 仪表板](https://dashboard.ngrok.com/get-started/your-authtoken) 获取密钥。\n"
      ]
    },
    {
      "cell_type": "code",
      "execution_count": 6,
      "metadata": {
        "id": "aczNr96rXoHC",
        "outputId": "08c56cfb-fca6-4721-f9f3-c71083cb7ac9",
        "colab": {
          "base_uri": "https://localhost:8080/"
        }
      },
      "outputs": [
        {
          "output_type": "stream",
          "name": "stdout",
          "text": [
            "Please input your ngrok Authtoken (if you don't have one, just press Enter):\n",
            "··········\n",
            "Ngrok Authtoken has been configured.\n",
            "Your application can be accessed through this public URL: NgrokTunnel: \"https://e044-34-82-197-113.ngrok-free.app\" -> \"http://localhost:5000\"\n"
          ]
        }
      ],
      "source": [
        "from pyngrok import ngrok, conf\n",
        "import getpass\n",
        "\n",
        "print(\"Please input your ngrok Authtoken (if you don't have one, just press Enter):\")\n",
        "NGROK_AUTH_TOKEN = getpass.getpass()\n",
        "\n",
        "if NGROK_AUTH_TOKEN:\n",
        "    conf.get_default().auth_token = NGROK_AUTH_TOKEN\n",
        "    print(\"Ngrok Authtoken has been configured.\")\n",
        "else:\n",
        "    print(\"No Ngrok Authtoken provided, running anonymously.\")\n",
        "\n",
        "ngrok.kill()\n",
        "\n",
        "# modify the port to your desired port, default is 5000\n",
        "try:\n",
        "    public_url = ngrok.connect(5000)\n",
        "    print(f\"Your application can be accessed through this public URL: {public_url}\")\n",
        "except Exception as e:\n",
        "    print(f\"Error starting ngrok: {e}\")\n",
        "    print(\"Please check your ngrok Authtoken is correct, or your network connection is normal.\")\n",
        "    print(\"If there is a previous ngrok process running but not closed correctly, it may also cause problems.\")"
      ]
    },
    {
      "cell_type": "markdown",
      "metadata": {
        "id": "YCKSKNM4XoHC"
      },
      "source": [
        "After completing the above steps, start the server by running the following cell. Note that colab running time is limited, so if your webpage is not responding, you can just restart the colab kernel.\n",
        "\n",
        "在完成上述步骤后，运行以下单元格启动服务器。请注意，Colab 的运行时间有限，因此如果您的网页未响应，可以重新启动 Colab 内核。\n"
      ]
    },
    {
      "cell_type": "code",
      "execution_count": 7,
      "metadata": {
        "id": "Pzdc9YwgXoHC",
        "outputId": "584be13a-f4e4-4c93-d312-8b09d5d61cf8",
        "colab": {
          "base_uri": "https://localhost:8080/"
        }
      },
      "outputs": [
        {
          "output_type": "stream",
          "name": "stdout",
          "text": [
            " * Serving Flask app 'app'\n",
            " * Debug mode: on\n",
            "INFO:werkzeug:\u001b[31m\u001b[1mWARNING: This is a development server. Do not use it in a production deployment. Use a production WSGI server instead.\u001b[0m\n",
            " * Running on http://127.0.0.1:5000\n",
            "INFO:werkzeug:\u001b[33mPress CTRL+C to quit\u001b[0m\n",
            "INFO:werkzeug: * Restarting with stat\n",
            "WARNING:werkzeug: * Debugger is active!\n",
            "INFO:werkzeug: * Debugger PIN: 389-066-323\n",
            "INFO:werkzeug:127.0.0.1 - - [05/Jun/2025 04:38:23] \"GET / HTTP/1.1\" 200 -\n",
            "INFO:werkzeug:127.0.0.1 - - [05/Jun/2025 04:38:24] \"GET /socket.io/?EIO=4&transport=polling&t=PS-OX6- HTTP/1.1\" 200 -\n",
            "INFO:werkzeug:127.0.0.1 - - [05/Jun/2025 04:38:24] \"GET /get_preferences HTTP/1.1\" 200 -\n",
            "INFO:werkzeug:127.0.0.1 - - [05/Jun/2025 04:38:24] \"\u001b[33mGET /favicon.ico HTTP/1.1\u001b[0m\" 404 -\n",
            "INFO:werkzeug:127.0.0.1 - - [05/Jun/2025 04:38:24] \"POST /socket.io/?EIO=4&transport=polling&t=PS-OXDW&sid=uQR9wznLOHRlnySJAAAA HTTP/1.1\" 200 -\n",
            "INFO:werkzeug:127.0.0.1 - - [05/Jun/2025 04:38:24] \"GET /socket.io/?EIO=4&transport=polling&t=PS-OXDX&sid=uQR9wznLOHRlnySJAAAA HTTP/1.1\" 200 -\n",
            "INFO:werkzeug:127.0.0.1 - - [05/Jun/2025 04:38:25] \"GET /socket.io/?EIO=4&transport=polling&t=PS-OXJr&sid=uQR9wznLOHRlnySJAAAA HTTP/1.1\" 200 -\n",
            "INFO:werkzeug:127.0.0.1 - - [05/Jun/2025 04:38:25] \"GET /socket.io/?EIO=4&transport=polling&t=PS-OXQA&sid=uQR9wznLOHRlnySJAAAA HTTP/1.1\" 200 -\n",
            "INFO:werkzeug:127.0.0.1 - - [05/Jun/2025 04:38:29] \"POST /save_preferences HTTP/1.1\" 200 -\n",
            "Entering search_war\n",
            "Searching for war: 人類裁決法廷 トリニティ・メタトロニオス\n",
            "Found 2 wars\n",
            "INFO:werkzeug:127.0.0.1 - - [05/Jun/2025 04:38:37] \"POST /search_war HTTP/1.1\" 200 -\n",
            "Searching for quest in war: 405\n",
            "Got 52 quests\n",
            "Processing quest: 4000500\n",
            "Processing quest: 4000501\n",
            "Processing quest: 4000502\n",
            "Processing quest: 4000503\n",
            "Processing quest: 4000504\n",
            "Processing quest: 4000505\n",
            "Processing quest: 4000506\n",
            "Processing quest: 4000507\n",
            "Processing quest: 4000508\n",
            "Processing quest: 4000509\n",
            "Processing quest: 4000510\n",
            "Processing quest: 4000511\n",
            "Processing quest: 4000512\n",
            "Processing quest: 4000513\n",
            "Processing quest: 4000514\n",
            "Processing quest: 4000515\n",
            "Processing quest: 4000516\n",
            "Processing quest: 4000517\n",
            "Processing quest: 4000518\n",
            "Processing quest: 4000519\n",
            "Processing quest: 4000520\n",
            "Processing quest: 4000521\n",
            "Processing quest: 4000522\n",
            "Processing quest: 4000523\n",
            "Processing quest: 4000524\n",
            "Processing quest: 4000525\n",
            "Processing quest: 4000526\n",
            "Processing quest: 4000527\n",
            "Processing quest: 4000528\n",
            "Processing quest: 4000529\n",
            "Processing quest: 4000551\n",
            "Processing quest: 4000552\n",
            "Processing quest: 4000571\n",
            "Processing quest: 4000572\n",
            "Processing quest: 4000573\n",
            "Processing quest: 4000574\n",
            "Processing quest: 4000575\n",
            "Processing quest: 4000576\n",
            "Processing quest: 4000577\n",
            "Processing quest: 93040501\n",
            "Processing quest: 93040502\n",
            "Processing quest: 93040503\n",
            "Processing quest: 93040504\n",
            "Processing quest: 93040505\n",
            "Processing quest: 93040506\n",
            "Processing quest: 93040507\n",
            "Processing quest: 93040508\n",
            "Processing quest: 93040509\n",
            "Processing quest: 93040510\n",
            "Processing quest: 93040511\n",
            "Processing quest: 93040512\n",
            "Processing quest: 93040514\n",
            "INFO:werkzeug:127.0.0.1 - - [05/Jun/2025 04:39:07] \"POST /search_quest HTTP/1.1\" 200 -\n",
            "INFO:werkzeug:127.0.0.1 - - [05/Jun/2025 04:39:13] \"POST /get_quest_detail HTTP/1.1\" 200 -\n",
            "Extracting dialogues for script: 0400050010\n",
            "INFO:werkzeug:127.0.0.1 - - [05/Jun/2025 04:39:14] \"POST /extract_dialogues HTTP/1.1\" 200 -\n",
            "Translating (gpt): 100% 291/291 [04:11<00:00,  1.16dialogue/s, batch=30/30]\n",
            "INFO:werkzeug:127.0.0.1 - - [05/Jun/2025 04:43:27] \"POST /translate HTTP/1.1\" 200 -\n"
          ]
        }
      ],
      "source": [
        "!python fgo_translator/app.py"
      ]
    }
  ],
  "metadata": {
    "kernelspec": {
      "display_name": "nn",
      "language": "python",
      "name": "python3"
    },
    "language_info": {
      "name": "python",
      "version": "3.9.16"
    },
    "colab": {
      "provenance": []
    }
  },
  "nbformat": 4,
  "nbformat_minor": 0
}